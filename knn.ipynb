{
 "cells": [
  {
   "cell_type": "code",
   "execution_count": 50,
   "id": "923dd9fb",
   "metadata": {},
   "outputs": [
    {
     "name": "stdout",
     "output_type": "stream",
     "text": [
      "Accuracy: 0.9473684210526315\n",
      "     real value predicted value\n",
      "39       Setosa          Setosa\n",
      "114   Virginica       Virginica\n",
      "66   Versicolor      Versicolor\n",
      "57   Versicolor      Versicolor\n",
      "42       Setosa          Setosa\n",
      "80   Versicolor      Versicolor\n",
      "105   Virginica       Virginica\n",
      "86   Versicolor      Versicolor\n",
      "33       Setosa          Setosa\n",
      "10       Setosa          Setosa\n",
      "18       Setosa          Setosa\n",
      "64   Versicolor      Versicolor\n",
      "106   Virginica      Versicolor\n",
      "40       Setosa          Setosa\n",
      "12       Setosa          Setosa\n",
      "72   Versicolor       Virginica\n",
      "61   Versicolor      Versicolor\n",
      "51   Versicolor      Versicolor\n",
      "145   Virginica       Virginica\n",
      "147   Virginica       Virginica\n",
      "24       Setosa          Setosa\n",
      "1        Setosa          Setosa\n",
      "95   Versicolor      Versicolor\n",
      "63   Versicolor      Versicolor\n",
      "117   Virginica       Virginica\n",
      "46       Setosa          Setosa\n",
      "25       Setosa          Setosa\n",
      "3        Setosa          Setosa\n",
      "31       Setosa          Setosa\n",
      "89   Versicolor      Versicolor\n",
      "134   Virginica       Virginica\n",
      "21       Setosa          Setosa\n",
      "74   Versicolor      Versicolor\n",
      "99   Versicolor      Versicolor\n",
      "27       Setosa          Setosa\n",
      "119   Virginica       Virginica\n",
      "137   Virginica       Virginica\n",
      "50   Versicolor      Versicolor\n"
     ]
    }
   ],
   "source": [
    "import pandas as pd\n",
    "from sklearn.neighbors import KNeighborsClassifier\n",
    "from sklearn.metrics import accuracy_score\n",
    "from sklearn.model_selection import train_test_split\n",
    "\n",
    "\n",
    "dataset=pd.read_csv(\"iris.csv\")\n",
    "x=dataset.iloc[:,:-1]\n",
    "y=dataset.iloc[:,-1]\n",
    "#print(y)\n",
    "x_train,x_test,y_train,y_test=train_test_split(x,y)\n",
    "classifier=KNeighborsClassifier()\n",
    "classifier.fit(x_train,y_train)\n",
    "\n",
    "y_pred=classifier.predict(x_test)\n",
    "\n",
    "print(\"Accuracy:\",accuracy_score(y_test,y_pred))\n",
    "print(pd.DataFrame({'real value':y_test,'predicted value':y_pred}))\n"
   ]
  },
  {
   "cell_type": "code",
   "execution_count": null,
   "id": "a41a01ca",
   "metadata": {},
   "outputs": [],
   "source": []
  },
  {
   "cell_type": "code",
   "execution_count": null,
   "id": "7932d30b",
   "metadata": {},
   "outputs": [],
   "source": []
  },
  {
   "cell_type": "code",
   "execution_count": null,
   "id": "a698d506",
   "metadata": {},
   "outputs": [],
   "source": []
  }
 ],
 "metadata": {
  "kernelspec": {
   "display_name": "Python 3 (ipykernel)",
   "language": "python",
   "name": "python3"
  },
  "language_info": {
   "codemirror_mode": {
    "name": "ipython",
    "version": 3
   },
   "file_extension": ".py",
   "mimetype": "text/x-python",
   "name": "python",
   "nbconvert_exporter": "python",
   "pygments_lexer": "ipython3",
   "version": "3.9.7"
  }
 },
 "nbformat": 4,
 "nbformat_minor": 5
}
